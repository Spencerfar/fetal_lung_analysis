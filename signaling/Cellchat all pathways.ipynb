{
 "cells": [
  {
   "cell_type": "code",
   "execution_count": 1,
   "id": "502beacd",
   "metadata": {},
   "outputs": [],
   "source": [
    "import rpy2.rinterface_lib.callbacks\n",
    "import logging\n",
    "import rpy2.robjects as ro\n",
    "\n",
    "from rpy2.robjects import pandas2ri\n",
    "import anndata2ri\n",
    "from rpy2.robjects.conversion import localconverter\n",
    "\n",
    "pandas2ri.activate()\n",
    "anndata2ri.activate()\n",
    "%load_ext rpy2.ipython"
   ]
  },
  {
   "cell_type": "code",
   "execution_count": 2,
   "id": "12d9aba8",
   "metadata": {
    "scrolled": true
   },
   "outputs": [
    {
     "name": "stdout",
     "output_type": "stream",
     "text": [
      "\n",
      "    WARNING: The R package \"reticulate\" does not\n",
      "    consider that it could be called from a Python process. This\n",
      "    results in a quasi-obligatory segfault when rpy2 is evaluating\n",
      "    R code using it. On the hand, rpy2 is accounting for the\n",
      "    fact that it might already be running embedded in a Python\n",
      "    process. This is why:\n",
      "    - Python -> rpy2 -> R -> reticulate: crashes\n",
      "    - R -> reticulate -> Python -> rpy2: works\n",
      "\n",
      "    The issue with reticulate is tracked here:\n",
      "    https://github.com/rstudio/reticulate/issues/208\n",
      "    "
     ]
    },
    {
     "name": "stderr",
     "output_type": "stream",
     "text": [
      "R[write to console]: Loading required package: dplyr\n",
      "\n",
      "R[write to console]: \n",
      "Attaching package: ‘dplyr’\n",
      "\n",
      "\n",
      "R[write to console]: The following objects are masked from ‘package:stats’:\n",
      "\n",
      "    filter, lag\n",
      "\n",
      "\n",
      "R[write to console]: The following objects are masked from ‘package:base’:\n",
      "\n",
      "    intersect, setdiff, setequal, union\n",
      "\n",
      "\n",
      "R[write to console]: Loading required package: igraph\n",
      "\n",
      "R[write to console]: \n",
      "Attaching package: ‘igraph’\n",
      "\n",
      "\n",
      "R[write to console]: The following objects are masked from ‘package:dplyr’:\n",
      "\n",
      "    as_data_frame, groups, union\n",
      "\n",
      "\n",
      "R[write to console]: The following objects are masked from ‘package:stats’:\n",
      "\n",
      "    decompose, spectrum\n",
      "\n",
      "\n",
      "R[write to console]: The following object is masked from ‘package:base’:\n",
      "\n",
      "    union\n",
      "\n",
      "\n",
      "R[write to console]: Loading required package: ggplot2\n",
      "\n"
     ]
    }
   ],
   "source": [
    "%%R\n",
    "library(anndata)\n",
    "library(Matrix)\n",
    "library(CellChat)"
   ]
  },
  {
   "cell_type": "code",
   "execution_count": 3,
   "id": "b9cf2233",
   "metadata": {},
   "outputs": [],
   "source": [
    "%%R \n",
    "cellchat.early <- readRDS('objects/cellchat_early.rds')\n",
    "cellchat.mid <- readRDS('objects/cellchat_mid.rds')\n",
    "cellchat.late <- readRDS('objects/cellchat_late.rds')"
   ]
  },
  {
   "cell_type": "code",
   "execution_count": 4,
   "id": "bc2335b6",
   "metadata": {},
   "outputs": [
    {
     "name": "stdout",
     "output_type": "stream",
     "text": [
      "An object of class CellChat created from a merged object with multiple datasets \n",
      " 969 signaling genes.\n",
      " 114234 cells. \n",
      "CellChat analysis of single cell RNA-seq data! \n"
     ]
    }
   ],
   "source": [
    "%%R \n",
    "cellchat <- readRDS('objects/cellchat_merged.rds')\n",
    "\n",
    "cellchat"
   ]
  },
  {
   "cell_type": "code",
   "execution_count": 5,
   "id": "edf503b5",
   "metadata": {},
   "outputs": [
    {
     "name": "stdout",
     "output_type": "stream",
     "text": [
      "[1] \"prob\"   \"pval\"   \"count\"  \"weight\"\n"
     ]
    }
   ],
   "source": [
    "%%R\n",
    "\n",
    "names(cellchat@net$early)"
   ]
  },
  {
   "cell_type": "code",
   "execution_count": 6,
   "id": "eaad4a31",
   "metadata": {},
   "outputs": [
    {
     "name": "stdout",
     "output_type": "stream",
     "text": [
      "[1] \"GW 10-13\" \"GW 14-16\" \"GW 17-19\"\n"
     ]
    }
   ],
   "source": [
    "%%R\n",
    "\n",
    "names(cellchat@net) <- c('GW 10-13', 'GW 14-16', 'GW 17-19')\n",
    "names(cellchat@net)"
   ]
  },
  {
   "cell_type": "code",
   "execution_count": 7,
   "id": "60c96f2b",
   "metadata": {},
   "outputs": [],
   "source": [
    "%%R\n",
    "\n",
    "cellchat@meta$datasets = factor(cellchat@meta$datasets, levels = c(\"Early\", \"Mid\", 'Late')) # set factor level"
   ]
  },
  {
   "cell_type": "code",
   "execution_count": 8,
   "id": "45b2ece0",
   "metadata": {},
   "outputs": [],
   "source": [
    "%%R \n",
    "names(cellchat@netP) <- c('GW 10-13', 'GW 14-16', 'GW 17-19')"
   ]
  },
  {
   "cell_type": "code",
   "execution_count": 8,
   "id": "d54077be",
   "metadata": {},
   "outputs": [
    {
     "name": "stderr",
     "output_type": "stream",
     "text": [
      "R[write to console]: The text on the y-axis will not be colored for the number of compared datasets larger than 3!\n",
      "\n",
      "R[write to console]: The text on the y-axis will not be colored for the number of compared datasets larger than 3!\n",
      "\n"
     ]
    }
   ],
   "source": [
    "%%R \n",
    "names(cellchat@net)\n",
    "gg1 <- rankNet(cellchat, mode = \"comparison\", stacked = TRUE, do.stat = FALSE, \n",
    "               measure='weight',show.raw=TRUE,do.flip=F,\n",
    "               comparison = c(1, 2,3), \n",
    "               sources.use=c('Airway SMC', 'Lipofibroblast precursors',\n",
    "                       'SOX2highCFTR+ cells',\n",
    "                       'Basal cells', 'Club cells',\n",
    "                        'Airway fibroblast progenitors'),\n",
    "              targets.use=c('SCGB3A2hiSFTPBhiCFTRhi cells'))\n",
    "\n",
    "pdf(\"./figures/interaction_strength_comparison_TP_Target_selected_sources.pdf\", \n",
    "    width = 7, height = 2.5)\n",
    "gg1 + theme(text = element_text(colour = \"black\"),\n",
    "           axis.text.x = element_text(colour = \"black\"),\n",
    "            axis.text.y = element_text(colour = \"black\"))"
   ]
  },
  {
   "cell_type": "code",
   "execution_count": 11,
   "id": "35f39f0a",
   "metadata": {},
   "outputs": [
    {
     "name": "stderr",
     "output_type": "stream",
     "text": [
      "R[write to console]: The text on the y-axis will not be colored for the number of compared datasets larger than 3!\n",
      "\n"
     ]
    }
   ],
   "source": [
    "%%R\n",
    "df = rankNet(cellchat, mode = \"comparison\", stacked = TRUE, do.stat = FALSE, \n",
    "               measure='weight',show.raw=TRUE,do.flip=F,\n",
    "               comparison = c(1, 2,3), \n",
    "               sources.use=c('Airway SMC', 'Lipofibroblast precursors',\n",
    "                       'SOX2highCFTR+ cells',\n",
    "                       'Basal cells', 'Club cells',\n",
    "                        'Airway fibroblast progenitors'),\n",
    "               #signaling=c('FGF'),\n",
    "              targets.use=c('SCGB3A2hiSFTPBhiCFTRhi cells'),return.data=T)$signaling.contribution\n",
    "\n",
    "write.csv(df, 'data/cellchat_all_pathways.csv')"
   ]
  }
 ],
 "metadata": {
  "kernelspec": {
   "display_name": "Python 3",
   "language": "python",
   "name": "python3"
  },
  "language_info": {
   "codemirror_mode": {
    "name": "ipython",
    "version": 3
   },
   "file_extension": ".py",
   "mimetype": "text/x-python",
   "name": "python",
   "nbconvert_exporter": "python",
   "pygments_lexer": "ipython3",
   "version": "3.8.10"
  }
 },
 "nbformat": 4,
 "nbformat_minor": 5
}
